{
 "cells": [
  {
   "cell_type": "markdown",
   "id": "0e65cc8d",
   "metadata": {},
   "source": [
    "# Single Drug Prediction Workflow\n",
    "\n",
    "This is the interactive version of the single drug prediction workflow using PyCOMPSs.\n",
    "\n",
    "It uses the Building Blocks from jupyter, whilst PyCOMPSs is used to parallelize the workflow."
   ]
  },
  {
   "cell_type": "code",
   "execution_count": null,
   "id": "b60e2ff8",
   "metadata": {},
   "outputs": [],
   "source": [
    "import os\n",
    "import shutil\n",
    "from pathlib import Path\n",
    "\n",
    "current_path = os.getcwd()\n",
    "if not \"PERMEDCOE_IMAGES\" in os.environ:\n",
    "    os.environ[\"PERMEDCOE_IMAGES\"] = current_path + \"/../../../../BuildingBlocks/Resources/images/\"\n",
    "os.environ[\"COMPUTING_UNITS\"] = \"1\""
   ]
  },
  {
   "cell_type": "markdown",
   "id": "f4508c57",
   "metadata": {},
   "source": [
    "First, start the PyCOMPSs runtime and import the used PyCOMPSs synchronization function (``compss_wait_on_directory``)"
   ]
  },
  {
   "cell_type": "code",
   "execution_count": null,
   "id": "a7255edb",
   "metadata": {},
   "outputs": [],
   "source": [
    "import pycompss.interactive as ipycompss"
   ]
  },
  {
   "cell_type": "code",
   "execution_count": null,
   "id": "ddf2b25f",
   "metadata": {},
   "outputs": [],
   "source": [
    "ipycompss.start(graph=True, trace=False)\n",
    "\n",
    "# PyCOMPSs imports\n",
    "from pycompss.api.api import compss_wait_on_file"
   ]
  },
  {
   "cell_type": "markdown",
   "id": "2a700428",
   "metadata": {},
   "source": [
    "Second, import the required Building Blocks"
   ]
  },
  {
   "cell_type": "code",
   "execution_count": null,
   "id": "f5628a64",
   "metadata": {},
   "outputs": [],
   "source": [
    "# To set the default PyCOMPSs TMPDIR\n",
    "from permedcoe import TMPDIR\n",
    "# Import building block tasks\n",
    "from Carnival_gex_preprocess_BB import preprocess as carnival_gex_preprocess\n",
    "from progeny_BB import progeny\n",
    "from omnipath_BB import omnipath\n",
    "from tf_enrichment_BB import tf_enrichment\n",
    "from CarnivalPy_BB import carnivalpy\n",
    "from Carnival_feature_merger_BB import feature_merger as carnival_feature_merger\n",
    "from ml_jax_drug_prediction_BB import ml as ml_jax_drug_prediction\n",
    "# TODO: carnival_BB not used\n",
    "# TODO: cellnopt_BB not used\n",
    "# TODO: export_solver_hdf5 not used"
   ]
  },
  {
   "cell_type": "markdown",
   "id": "22284399",
   "metadata": {},
   "source": [
    "Third, set the input parameters and check results folder"
   ]
  },
  {
   "cell_type": "code",
   "execution_count": null,
   "id": "8069f2f5",
   "metadata": {},
   "outputs": [],
   "source": [
    "print(\"---------------------------------------\")\n",
    "print(\"|   SINGLE DRUG PREDICTION Workflow   |\")\n",
    "print(\"---------------------------------------\")\n",
    "\n",
    "results = current_path + \"/results/\"\n",
    "results_csvs = current_path + \"/results_csvs/\"\n",
    "Path(current_path + \"/dummy.x\").touch()\n",
    "\n",
    "cell_list = current_path + \"/../../../Resources/data/cell_list_example.txt\"\n",
    "gene_expression = current_path + \"/../../../Resources/data/Cell_line_RMA_proc_basalExp.txt\"\n",
    "gex = \"\"\n",
    "gex_n = \"\"\n",
    "progeny_file = \"\"\n",
    "network = \"\"\n",
    "genelist = results_csvs + \"/genelist.csv\"\n",
    "jax_input = \"dummy.x\"\n",
    "results_folder = results\n",
    "results_csvs_folder = results_csvs"
   ]
  },
  {
   "cell_type": "code",
   "execution_count": null,
   "id": "3d956a40",
   "metadata": {},
   "outputs": [],
   "source": [
    "if not os.path.exists(results_folder):\n",
    "    os.makedirs(results_folder, exist_ok=True)\n",
    "else:\n",
    "    # Do not continue if results folder exists\n",
    "    raise Exception(\"ERROR: Results folder exists: %s\" % results_folder)\n",
    "if not os.path.exists(results_csvs_folder):\n",
    "    os.makedirs(results_csvs_folder, exist_ok=True)\n",
    "else:\n",
    "    # Do not continue if results csvs folder exists\n",
    "    raise Exception(\"ERROR: Results CSVs folder exists: %s\" % results_csvs_folder)"
   ]
  },
  {
   "cell_type": "markdown",
   "id": "1f6406be",
   "metadata": {},
   "source": [
    "Initial STEP: Read the list of cells to process"
   ]
  },
  {
   "cell_type": "code",
   "execution_count": null,
   "id": "61933306",
   "metadata": {},
   "outputs": [],
   "source": [
    "with open(cell_list, 'r') as cell_list_fd:\n",
    "    cells_raw = cell_list_fd.readlines()\n",
    "    cells = [cell.strip() for cell in cells_raw]"
   ]
  },
  {
   "cell_type": "markdown",
   "id": "8b0f6935",
   "metadata": {},
   "source": [
    "1st STEP: Remove the DATA. prefix from the columns"
   ]
  },
  {
   "cell_type": "code",
   "execution_count": null,
   "id": "c1f5a4df",
   "metadata": {},
   "outputs": [],
   "source": [
    "if gex:\n",
    "    gex_csv = gex\n",
    "else:\n",
    "    gex_csv = os.path.join(results_folder, \"gex.csv\")\n",
    "if not os.path.exists(gex_csv):\n",
    "    if gene_expression:\n",
    "        print(\"INFO: gex does not exist. Creating in: %s using %s\" % (gex_csv, gene_expression))\n",
    "        carnival_gex_preprocess(tmpdir=TMPDIR,\n",
    "                                input_file=gene_expression,\n",
    "                                output_file=gex_csv,\n",
    "                                col_genes=\"GENE_SYMBOLS\",\n",
    "                                scale=\"FALSE\",\n",
    "                                exclude_cols=\"GENE_title\",\n",
    "                                tsv=\"TRUE\",\n",
    "                                remove=\"DATA.\",\n",
    "                                verbose=\"TRUE\"\n",
    "        )\n",
    "    else:\n",
    "        raise Exception(\"ERROR: Please provide --gene_expression if --gex does not exist or is not defined\")\n",
    "else:\n",
    "    print(\"INFO: Using existing gex: %s\" % gex_csv)"
   ]
  },
  {
   "cell_type": "markdown",
   "id": "9cd45471",
   "metadata": {},
   "source": [
    "2nd STEP: Do the same but this time scale also genes across cell lines"
   ]
  },
  {
   "cell_type": "code",
   "execution_count": null,
   "id": "2992b336",
   "metadata": {},
   "outputs": [],
   "source": [
    "if gex_n:\n",
    "    gex_n_csv = gex_n\n",
    "else:\n",
    "    gex_n_csv = os.path.join(results_folder, \"gex_n.csv\")\n",
    "if not os.path.exists(gex_n_csv):\n",
    "    print(\"INFO: gex_n does not exist. Creating in: %s using %s\" % (gex_n_csv, gex_csv))\n",
    "    carnival_gex_preprocess(tmpdir=TMPDIR,\n",
    "                            input_file=gex_csv,\n",
    "                            output_file=gex_n_csv,\n",
    "                            col_genes=\"GENE_SYMBOLS\",\n",
    "                            scale=\"TRUE\",\n",
    "                            exclude_cols=\"GENE_title\",\n",
    "                            tsv=\"FALSE\",\n",
    "                            remove=\"DATA.\",\n",
    "                            verbose=\"TRUE\"\n",
    "    )\n",
    "else:\n",
    "    print(\"INFO: Using existing gex_n: %s\" % gex_n_csv)"
   ]
  },
  {
   "cell_type": "markdown",
   "id": "2ab551b1",
   "metadata": {},
   "source": [
    "3rd STEP: Use the gene expression data to run Progeny and estimate pathway activities"
   ]
  },
  {
   "cell_type": "code",
   "execution_count": null,
   "id": "33fd40d0",
   "metadata": {},
   "outputs": [],
   "source": [
    "if progeny_file:\n",
    "    progeny_csv = progeny_file\n",
    "else:\n",
    "    progeny_csv = os.path.join(results_folder, \"progeny.csv\")\n",
    "if not os.path.exists(progeny_csv):\n",
    "    print(\"INFO: progeny does not exist. Creating in: %s using %s\" % (progeny_csv, gex_csv))\n",
    "    progeny(tmpdir=TMPDIR,\n",
    "            input_file=gex_csv,\n",
    "            output_file=progeny_csv,\n",
    "            organism=\"Human\",\n",
    "            ntop=\"100\",\n",
    "            col_genes=\"GENE_SYMBOLS\",\n",
    "            scale=\"TRUE\",\n",
    "            exclude_cols=\"GENE_title\",\n",
    "            tsv=\"FALSE\",\n",
    "            perms=\"1\",\n",
    "            zscore=\"FALSE\",\n",
    "            verbose=\"TRUE\"\n",
    "    )\n",
    "else:\n",
    "    print(\"INFO: Using existing progeny: %s\" % progeny_csv)"
   ]
  },
  {
   "cell_type": "markdown",
   "id": "0811090f",
   "metadata": {},
   "source": [
    "4th STEP: Get SIF from omnipath"
   ]
  },
  {
   "cell_type": "code",
   "execution_count": null,
   "id": "847947f4",
   "metadata": {},
   "outputs": [],
   "source": [
    "if network:\n",
    "    network_csv = network\n",
    "else:\n",
    "    network_csv = os.path.join(results_folder, \"network.csv\")\n",
    "if not os.path.exists(network_csv):\n",
    "    print(\"INFO: network does not exist. Creating in: %s\" % network_csv)\n",
    "    omnipath(tmpdir=TMPDIR,\n",
    "             debug=False,\n",
    "             output_file=network_csv\n",
    "    )\n",
    "else:\n",
    "    print(\"INFO: Using existing network: %s\" % network_csv)"
   ]
  },
  {
   "cell_type": "code",
   "execution_count": null,
   "id": "b39398db",
   "metadata": {},
   "outputs": [],
   "source": [
    "for cell in cells:\n",
    "    print(\"Processing %s\" % cell)\n",
    "    cell_result_folder = os.path.join(results_folder, cell)\n",
    "    os.makedirs(cell_result_folder, exist_ok=True)\n",
    "\n",
    "    # 5th STEP: Run CARNIVAL on the sample and extract the features\n",
    "    cell_measurement_csv = os.path.join(cell_result_folder, \"measurements.csv\")\n",
    "    tf_enrichment(tmpdir=TMPDIR,\n",
    "                  input_file=gex_n_csv,\n",
    "                  output_file=cell_measurement_csv,\n",
    "                  tsv=\"FALSE\",\n",
    "                  weight_col=cell,\n",
    "                  id_col=\"GENE_SYMBOLS\",\n",
    "                  minsize=10,\n",
    "                  source=\"tf\",\n",
    "                  confidence=\"A,B,C\",\n",
    "                  verbose=\"TRUE\",\n",
    "                  pval_threshold=0.1,\n",
    "                  export_carnival=\"TRUE\"\n",
    "    )\n"
   ]
  },
  {
   "cell_type": "code",
   "execution_count": null,
   "id": "368aa354",
   "metadata": {},
   "outputs": [],
   "source": [
    "compss_wait_on_file(network_csv)\n",
    "for cell in cells:\n",
    "    cell_result_folder = os.path.join(results_folder, cell)\n",
    "    cell_measurement_csv = os.path.join(cell_result_folder, \"measurements.csv\")\n",
    "    shutil.copyfile(network_csv, cell_result_folder + \"/network.csv\")\n",
    "    compss_wait_on_file(cell_measurement_csv)"
   ]
  },
  {
   "cell_type": "code",
   "execution_count": null,
   "id": "045f4047",
   "metadata": {},
   "outputs": [],
   "source": [
    "for cell in cells:\n",
    "    # 6th STEP: Run CarnivalPy on the sample using cbc\n",
    "    cell_result_folder = os.path.join(results_folder, cell)\n",
    "    carnival_csv = os.path.join(cell_result_folder, \"carnival.csv\")\n",
    "    carnivalpy(tmpdir=TMPDIR,\n",
    "               path=cell_result_folder,\n",
    "               penalty=0,\n",
    "               solver=\"cbc\",\n",
    "               tol=0.1,\n",
    "               maxtime=500,\n",
    "               export=carnival_csv,\n",
    "    )"
   ]
  },
  {
   "cell_type": "code",
   "execution_count": null,
   "id": "a67c0477",
   "metadata": {},
   "outputs": [],
   "source": [
    "compss_wait_on_file(progeny_csv)\n",
    "for cell in cells:\n",
    "    cell_result_folder = os.path.join(results_folder, cell)\n",
    "    carnival_csv = os.path.join(cell_result_folder, \"carnival.csv\")\n",
    "    compss_wait_on_file(carnival_csv)"
   ]
  },
  {
   "cell_type": "markdown",
   "id": "07ca7907",
   "metadata": {},
   "source": [
    "7th STEP: Merge the features into a single CSV, focus only on some specific genes"
   ]
  },
  {
   "cell_type": "code",
   "execution_count": null,
   "id": "d0d82aed",
   "metadata": {},
   "outputs": [],
   "source": [
    "cell_features_csv = os.path.join(results_csvs_folder, \"cell_features.csv\")\n",
    "carnival_feature_merger(tmpdir=TMPDIR,\n",
    "                        input_dir=results_folder,\n",
    "                        output_file=cell_features_csv,\n",
    "                        feature_file=genelist,\n",
    "                        merge_csv_file=progeny_csv,\n",
    "                        merge_csv_index=\"sample\",\n",
    "                        merge_csv_prefix=\"F_\"\n",
    ")"
   ]
  },
  {
   "cell_type": "markdown",
   "id": "e58e3a55",
   "metadata": {},
   "source": [
    "8th STEP: Train a model to predict IC50 values for unknown cells (using the progeny+carnival features) and known drugs"
   ]
  },
  {
   "cell_type": "code",
   "execution_count": null,
   "id": "6f09d4fa",
   "metadata": {},
   "outputs": [],
   "source": [
    "model_npz = os.path.join(results_csvs_folder, \"model.npz\")\n",
    "ml_jax_drug_prediction(tmpdir=TMPDIR,\n",
    "                       input_file=jax_input,\n",
    "                       output_file=model_npz,\n",
    "                       drug_features=\".none\",\n",
    "                       cell_features=cell_features_csv,\n",
    "                       epochs=\"200\",\n",
    "                       adam_lr=\"0.1\",\n",
    "                       reg=\"0.001\",\n",
    "                       latent_size=\"10\",\n",
    "                       test_drugs=\"0.1\",\n",
    "                       test_cells=\"0.1\"\n",
    ")\n",
    "compss_wait_on_file(model_npz)"
   ]
  },
  {
   "cell_type": "markdown",
   "id": "dbb6a5cf",
   "metadata": {},
   "source": [
    "Finally, we can stop the PyCOMPSs runtime."
   ]
  },
  {
   "cell_type": "code",
   "execution_count": null,
   "id": "2bdbebad",
   "metadata": {},
   "outputs": [],
   "source": [
    "ipycompss.stop(sync=False)"
   ]
  }
 ],
 "metadata": {
  "kernelspec": {
   "display_name": "Python 3 (ipykernel)",
   "language": "python",
   "name": "python3"
  },
  "language_info": {
   "codemirror_mode": {
    "name": "ipython",
    "version": 3
   },
   "file_extension": ".py",
   "mimetype": "text/x-python",
   "name": "python",
   "nbconvert_exporter": "python",
   "pygments_lexer": "ipython3",
   "version": "3.10.12"
  },
  "varInspector": {
   "cols": {
    "lenName": 16,
    "lenType": 16,
    "lenVar": 40
   },
   "kernels_config": {
    "python": {
     "delete_cmd_postfix": "",
     "delete_cmd_prefix": "del ",
     "library": "var_list.py",
     "varRefreshCmd": "print(var_dic_list())"
    },
    "r": {
     "delete_cmd_postfix": ") ",
     "delete_cmd_prefix": "rm(",
     "library": "var_list.r",
     "varRefreshCmd": "cat(var_dic_list()) "
    }
   },
   "types_to_exclude": [
    "module",
    "function",
    "builtin_function_or_method",
    "instance",
    "_Feature"
   ],
   "window_display": false
  }
 },
 "nbformat": 4,
 "nbformat_minor": 5
}
